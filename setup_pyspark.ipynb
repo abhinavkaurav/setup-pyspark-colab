{
  "nbformat": 4,
  "nbformat_minor": 0,
  "metadata": {
    "colab": {
      "provenance": [],
      "toc_visible": true,
      "authorship_tag": "ABX9TyMdWjnwugi/++nWGyiNNwce",
      "include_colab_link": true
    },
    "kernelspec": {
      "name": "python3",
      "display_name": "Python 3"
    },
    "language_info": {
      "name": "python"
    }
  },
  "cells": [
    {
      "cell_type": "markdown",
      "metadata": {
        "id": "view-in-github",
        "colab_type": "text"
      },
      "source": [
        "<a href=\"https://colab.research.google.com/github/abhinavkaurav/setup-pyspark-colab/blob/main/setup_pyspark.ipynb\" target=\"_parent\"><img src=\"https://colab.research.google.com/assets/colab-badge.svg\" alt=\"Open In Colab\"/></a>"
      ]
    },
    {
      "cell_type": "code",
      "execution_count": 1,
      "metadata": {
        "id": "CtW62kq59gip"
      },
      "outputs": [],
      "source": [
        "!apt-get install openjdk-8-jdk-headless -qq > /dev/null\n",
        "!wget -q https://archive.apache.org/dist/spark/spark-3.1.2/spark-3.1.2-bin-hadoop2.7.tgz\n",
        "!tar xf spark-3.1.2-bin-hadoop2.7.tgz\n",
        "!pip install -q findspark\n",
        "import os\n",
        "os.environ[\"JAVA_HOME\"] = \"/usr/lib/jvm/java-8-openjdk-amd64\"\n",
        "os.environ[\"SPARK_HOME\"] = \"/content/spark-3.1.2-bin-hadoop2.7\"\n",
        "import findspark\n",
        "findspark.init()"
      ]
    },
    {
      "cell_type": "code",
      "source": [
        "from pyspark.sql import SparkSession\n",
        "spark = SparkSession.builder.appName('setup_pyspark').getOrCreate()\n",
        "rdd = spark.sparkContext.parallelize(list(zip(range(0,9),range(1,10))))\n",
        "df = rdd.toDF()\n",
        "df.count()\n",
        "df.printSchema()\n",
        "df.show(truncate=False)"
      ],
      "metadata": {
        "colab": {
          "base_uri": "https://localhost:8080/"
        },
        "id": "vhk5AfUB-35T",
        "outputId": "f933e6ac-92c0-4640-b0f4-014a8936fd8a"
      },
      "execution_count": 2,
      "outputs": [
        {
          "output_type": "stream",
          "name": "stdout",
          "text": [
            "root\n",
            " |-- _1: long (nullable = true)\n",
            " |-- _2: long (nullable = true)\n",
            "\n",
            "+---+---+\n",
            "|_1 |_2 |\n",
            "+---+---+\n",
            "|0  |1  |\n",
            "|1  |2  |\n",
            "|2  |3  |\n",
            "|3  |4  |\n",
            "|4  |5  |\n",
            "|5  |6  |\n",
            "|6  |7  |\n",
            "|7  |8  |\n",
            "|8  |9  |\n",
            "+---+---+\n",
            "\n"
          ]
        }
      ]
    },
    {
      "cell_type": "code",
      "source": [],
      "metadata": {
        "colab": {
          "base_uri": "https://localhost:8080/"
        },
        "id": "hL7wBR2GAYjn",
        "outputId": "7b2db849-73da-45a8-e91f-f356c0667f26"
      },
      "execution_count": 5,
      "outputs": [
        {
          "output_type": "stream",
          "name": "stdout",
          "text": [
            "root\n",
            " |-- _1: long (nullable = true)\n",
            " |-- _2: long (nullable = true)\n",
            "\n",
            "+---+---+\n",
            "|_1 |_2 |\n",
            "+---+---+\n",
            "|0  |1  |\n",
            "|1  |2  |\n",
            "|2  |3  |\n",
            "|3  |4  |\n",
            "|4  |5  |\n",
            "|5  |6  |\n",
            "|6  |7  |\n",
            "|7  |8  |\n",
            "|8  |9  |\n",
            "+---+---+\n",
            "\n"
          ]
        }
      ]
    }
  ]
}